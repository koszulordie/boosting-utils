{
 "cells": [
  {
   "cell_type": "markdown",
   "metadata": {},
   "source": [
    "# Boosting Tests"
   ]
  },
  {
   "cell_type": "code",
   "execution_count": null,
   "metadata": {},
   "outputs": [],
   "source": [
    "%load_ext autoreload\n",
    "%autoreload 2"
   ]
  },
  {
   "cell_type": "raw",
   "metadata": {},
   "source": [
    "Dependencies\n",
    "============\n",
    "\n",
    "# conda install xgboost\n",
    "# conda install shap"
   ]
  },
  {
   "cell_type": "code",
   "execution_count": null,
   "metadata": {},
   "outputs": [],
   "source": [
    "import pandas as pd\n",
    "import numpy as np\n",
    "import sklearn\n",
    "\n",
    "from main import train\n",
    "import shap_values\n",
    "from utils import plot_learning"
   ]
  },
  {
   "cell_type": "code",
   "execution_count": null,
   "metadata": {},
   "outputs": [],
   "source": [
    "a = np.random.normal(size=100)\n",
    "b = np.random.normal(size=100)\n",
    "\n",
    "toy_data = {\n",
    "    'a': a,\n",
    "    'b': b,\n",
    "    'c': a + b\n",
    "}\n",
    "\n",
    "toy_df = pd.DataFrame(toy_data)"
   ]
  },
  {
   "cell_type": "code",
   "execution_count": null,
   "metadata": {},
   "outputs": [],
   "source": [
    "X = toy_df[['a', 'b']].values\n",
    "y = toy_df['c'].values\n",
    "split = sklearn.model_selection.train_test_split(X, y, test_size=0.3)"
   ]
  },
  {
   "cell_type": "code",
   "execution_count": null,
   "metadata": {},
   "outputs": [],
   "source": [
    "# documentation: \n",
    "# https://xgboost.readthedocs.io/en/latest/parameter.html\n",
    "    \n",
    "XGB_PARAMS = {\n",
    "        \"objective\": \"reg:squarederror\",\n",
    "        \"reg_lambda\": 1,\n",
    "        \"random_state\": 42,\n",
    "        \"scale_pos_weight\": 1,\n",
    "        \"subsample\": 0.7,\n",
    "        \"reg_alpha\": 0,\n",
    "        \"max_delta_step\": 0,\n",
    "        \"min_child_weight\": 1,\n",
    "        \"learning_rate\": 1e-02,\n",
    "        \"colsample_bylevel\": 1.0,\n",
    "        \"gamma\": 0,\n",
    "        \"colsample_bytree\": 1.0,\n",
    "        \"booster\": \"gbtree\",\n",
    "        \"max_depth\": 4,\n",
    "        \"seed\": 21\n",
    "}"
   ]
  },
  {
   "cell_type": "code",
   "execution_count": null,
   "metadata": {},
   "outputs": [],
   "source": [
    "best_model, learning_curve = train(split, XGB_PARAMS, tol_alpha=1e-3, verbose=True)"
   ]
  },
  {
   "cell_type": "code",
   "execution_count": null,
   "metadata": {},
   "outputs": [],
   "source": [
    "plot_learning(learning_curve)"
   ]
  },
  {
   "cell_type": "code",
   "execution_count": null,
   "metadata": {},
   "outputs": [],
   "source": [
    "best_model, learning_curve = train(split, XGB_PARAMS, tol_alpha=1e-2, verbose=True)"
   ]
  },
  {
   "cell_type": "code",
   "execution_count": null,
   "metadata": {},
   "outputs": [],
   "source": [
    "plot_learning(learning_curve)"
   ]
  },
  {
   "cell_type": "code",
   "execution_count": null,
   "metadata": {},
   "outputs": [],
   "source": [
    "best_model, learning_curve = train(split, XGB_PARAMS, tol_alpha=1e-1, verbose=True)"
   ]
  },
  {
   "cell_type": "code",
   "execution_count": null,
   "metadata": {},
   "outputs": [],
   "source": [
    "plot_learning(learning_curve)"
   ]
  },
  {
   "cell_type": "code",
   "execution_count": null,
   "metadata": {},
   "outputs": [],
   "source": [
    "explanations = shap_values.get(best_model, X)"
   ]
  }
 ],
 "metadata": {
  "kernelspec": {
   "display_name": "Python [conda env:anaconda3-boosting_env]",
   "language": "python",
   "name": "conda-env-anaconda3-boosting_env-py"
  },
  "language_info": {
   "codemirror_mode": {
    "name": "ipython",
    "version": 3
   },
   "file_extension": ".py",
   "mimetype": "text/x-python",
   "name": "python",
   "nbconvert_exporter": "python",
   "pygments_lexer": "ipython3",
   "version": "3.6.7"
  }
 },
 "nbformat": 4,
 "nbformat_minor": 2
}
